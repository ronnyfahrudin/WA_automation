{
 "cells": [
  {
   "cell_type": "markdown",
   "metadata": {},
   "source": [
    "# Whats App automation Coding"
   ]
  },
  {
   "cell_type": "code",
   "execution_count": 2,
   "metadata": {},
   "outputs": [],
   "source": [
    "from selenium import webdriver\n",
    "import time\n",
    "from selenium.webdriver.support import expected_conditions as ec\n",
    "from selenium.webdriver.support.ui import WebDriverWait\n",
    "from selenium.webdriver.common.keys import Keys\n",
    "from selenium.webdriver.common.by import By"
   ]
  },
  {
   "cell_type": "markdown",
   "metadata": {},
   "source": [
    "# when you execute this below, you have to scan your bar code by your phone"
   ]
  },
  {
   "cell_type": "code",
   "execution_count": 6,
   "metadata": {},
   "outputs": [
    {
     "name": "stdin",
     "output_type": "stream",
     "text": [
      "write your message to send here :  I message you by python\n"
     ]
    }
   ],
   "source": [
    "browser = webdriver.Chrome('D:/webdrivers/chromedriver.exe') # where your path chromedriver ti execute\n",
    "browser.get('https://web.whatsapp.com/') # web of WA\n",
    "wait = WebDriverWait(browser, 600)\n",
    "\n",
    "target = '\"test\"' #you can write your target to sending automation mesagge\n",
    "string = input(\"write your message to send here : \")\n",
    "x_arg = '//span[contains(@title, ' + target +')]'\n",
    "target = wait.until(ec.presence_of_element_located((By.XPATH, x_arg)))\n",
    "target.click() "
   ]
  },
  {
   "cell_type": "markdown",
   "metadata": {},
   "source": [
    "# You can Change range like 1000 or make infinity with while loop"
   ]
  },
  {
   "cell_type": "code",
   "execution_count": 7,
   "metadata": {},
   "outputs": [],
   "source": [
    "# enter this to your action\n",
    "input_box = browser.find_element_by_class_name('_3uMse') # search element send in your chrome \n",
    "\n",
    "for i in range(100):# writing 100 message\n",
    "    input_box.send_keys(string + Keys.ENTER)"
   ]
  },
  {
   "cell_type": "markdown",
   "metadata": {},
   "source": [
    "# Sending File By Python"
   ]
  },
  {
   "cell_type": "code",
   "execution_count": 13,
   "metadata": {},
   "outputs": [
    {
     "name": "stdin",
     "output_type": "stream",
     "text": [
      "insert your file path: D:/pyt.jpg\n",
      "write your message: hello guys i'm python\n"
     ]
    }
   ],
   "source": [
    "browser = webdriver.Chrome('D:/webdrivers/chromedriver.exe')\n",
    "browser.get('https://web.whatsapp.com/')\n",
    "wait = WebDriverWait(browser, 600)\n",
    "\n",
    "target = '\"R diskusi DQLAB\"' # your target\n",
    "file_path = input('insert your file path:')\n",
    "string = input(\"write your message:\")\n",
    "x_arg = '//span[contains(@title, ' + target +')]'\n",
    "target = wait.until(ec.presence_of_element_located((By.XPATH, x_arg)))\n",
    "target.click()"
   ]
  },
  {
   "cell_type": "code",
   "execution_count": 14,
   "metadata": {},
   "outputs": [],
   "source": [
    "from time import sleep\n",
    "attachment_section = browser.find_element_by_xpath('//div[@title = \"Attach\"]')\n",
    "attachment_section.click()\n",
    "\n",
    "image_box = browser.find_element_by_xpath('//input[@accept=\"image/*,video/mp4,video/3gpp,video/quicktime\"]')\n",
    "image_box.send_keys(file_path)\n",
    "\n",
    "sleep(3)\n",
    "\n",
    "send_button = browser.find_element_by_xpath('//span[@data-icon=\"send\"]')\n",
    "send_button.click()"
   ]
  },
  {
   "cell_type": "code",
   "execution_count": null,
   "metadata": {},
   "outputs": [],
   "source": []
  }
 ],
 "metadata": {
  "kernelspec": {
   "display_name": "Python 3.7.7 64-bit ('tensorflow_env': conda)",
   "language": "python",
   "name": "python37764bittensorflowenvconda146f3c44a0a9457799eb9f5cfea6d21a"
  },
  "language_info": {
   "codemirror_mode": {
    "name": "ipython",
    "version": 3
   },
   "file_extension": ".py",
   "mimetype": "text/x-python",
   "name": "python",
   "nbconvert_exporter": "python",
   "pygments_lexer": "ipython3",
   "version": "3.7.7"
  }
 },
 "nbformat": 4,
 "nbformat_minor": 4
}
